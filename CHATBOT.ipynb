{
  "nbformat": 4,
  "nbformat_minor": 0,
  "metadata": {
    "colab": {
      "provenance": []
    },
    "kernelspec": {
      "name": "python3",
      "display_name": "Python 3"
    },
    "language_info": {
      "name": "python"
    }
  },
  "cells": [
    {
      "cell_type": "code",
      "execution_count": 2,
      "metadata": {
        "colab": {
          "base_uri": "https://localhost:8080/"
        },
        "id": "LwdGk1u6LcUk",
        "outputId": "deac81d9-fc5b-4b76-b555-ebcf5395e522"
      },
      "outputs": [
        {
          "output_type": "stream",
          "name": "stdout",
          "text": [
            "Welcome to Hotel Booking Chatbot!\n",
            "How can I help you? I want to book an hotel\n",
            "Which hotel are you interested in? Hotel A\n",
            "How many nights would you like to stay? 2\n",
            "Processing payment of $200...\n",
            "Your booking for Hotel A for 2 nights is confirmed! Total price: $200\n"
          ]
        }
      ],
      "source": [
        "# prompt: Develop a conversational chatbot that assists users in booking hotel reservations. The chatbot should engage users in natural language conversations, understand their requirements, and guide them through the booking process. Consider integrating the chatbot with a hotel database and a payment gateway for seamless transaction handling.\n",
        "# ...give the code for this one in an attractive\n",
        "\n",
        "# This is a simplified example and would require significant expansion\n",
        "# for a real-world application.  It demonstrates the core concepts\n",
        "# and can serve as a starting point.\n",
        "\n",
        "import random\n",
        "\n",
        "# Placeholder for a hotel database (replace with actual database connection)\n",
        "hotel_database = {\n",
        "    \"Hotel A\": {\"price\": 100, \"availability\": 5},\n",
        "    \"Hotel B\": {\"price\": 150, \"availability\": 2},\n",
        "    \"Hotel C\": {\"price\": 80, \"availability\": 8}\n",
        "}\n",
        "\n",
        "# Placeholder for a payment gateway (replace with actual integration)\n",
        "def process_payment(amount):\n",
        "    # Simulate successful payment\n",
        "    print(f\"Processing payment of ${amount}...\")\n",
        "    return True\n",
        "\n",
        "\n",
        "def get_hotel_info(hotel_name):\n",
        "  if hotel_name in hotel_database:\n",
        "      return hotel_database[hotel_name]\n",
        "  else:\n",
        "      return None\n",
        "\n",
        "def book_hotel(hotel_name, num_nights):\n",
        "    hotel_info = get_hotel_info(hotel_name)\n",
        "    if hotel_info and hotel_info['availability'] > 0:\n",
        "        total_price = hotel_info['price'] * num_nights\n",
        "        if process_payment(total_price):  # Placeholder payment process\n",
        "            hotel_info['availability'] -= 1\n",
        "            print(f\"Your booking for {hotel_name} for {num_nights} nights is confirmed! Total price: ${total_price}\")\n",
        "            return True  # Booking successful\n",
        "        else:\n",
        "            print(\"Payment failed. Booking cancelled.\")\n",
        "            return False  # Booking failed\n",
        "    else:\n",
        "        print(\"Hotel unavailable or booking failed\")\n",
        "        return False  # Booking failed\n",
        "\n",
        "def chatbot():\n",
        "    print(\"Welcome to Hotel Booking Chatbot!\")\n",
        "\n",
        "    while True:\n",
        "        user_input = input(\"How can I help you? \").lower()\n",
        "\n",
        "        if \"book\" in user_input and \"hotel\" in user_input:\n",
        "          hotel_name = input(\"Which hotel are you interested in? \")\n",
        "          num_nights = int(input(\"How many nights would you like to stay? \"))\n",
        "\n",
        "          if book_hotel(hotel_name, num_nights):\n",
        "              break\n",
        "          else:\n",
        "              continue\n",
        "\n",
        "        elif \"list hotels\" in user_input:\n",
        "            print(\"Available Hotels:\")\n",
        "            for hotel, details in hotel_database.items():\n",
        "                print(f\"- {hotel}: ${details['price']} per night, {details['availability']} rooms available.\")\n",
        "        elif \"exit\" in user_input or \"bye\" in user_input:\n",
        "            print(\"Thank you for using the chatbot!\")\n",
        "            break\n",
        "        else:\n",
        "          print(\"I'm sorry, I don't understand. Can you rephrase?\")\n",
        "\n",
        "\n",
        "if __name__ == \"__main__\":\n",
        "    chatbot()\n"
      ]
    },
    {
      "cell_type": "code",
      "source": [
        "# prompt: give the performance metrics for this\n",
        "\n",
        "import time\n",
        "\n",
        "# ... (your code) ...\n",
        "\n",
        "start_time = time.time()\n",
        "# ... (the part of your code you want to time, e.g., the database query) ...\n",
        "end_time = time.time()\n",
        "\n",
        "query_latency = end_time - start_time\n",
        "print(f\"Query latency: {query_latency} seconds\")\n"
      ],
      "metadata": {
        "colab": {
          "base_uri": "https://localhost:8080/"
        },
        "id": "hj5Mt0YuLsNK",
        "outputId": "d0060f10-8ed3-4a38-a79a-992e192a2634"
      },
      "execution_count": 3,
      "outputs": [
        {
          "output_type": "stream",
          "name": "stdout",
          "text": [
            "Query latency: 3.170967102050781e-05 seconds\n"
          ]
        }
      ]
    },
    {
      "cell_type": "code",
      "source": [
        "# prompt: i want only accuracy score for this..not that query latency\n",
        "\n",
        "# Assuming 'y_true' and 'y_pred' are defined elsewhere in your code\n",
        "# and represent the true and predicted values, respectively\n",
        "\n",
        "from sklearn.metrics import accuracy_score\n",
        "\n",
        "# Example: replace with your actual true and predicted values\n",
        "y_true = [0, 1, 1, 0, 1]\n",
        "y_pred = [0, 1, 0, 0, 1]\n",
        "\n",
        "accuracy = accuracy_score(y_true, y_pred)\n",
        "print(f\"Accuracy: {accuracy}\")\n"
      ],
      "metadata": {
        "colab": {
          "base_uri": "https://localhost:8080/"
        },
        "id": "com9iGK3MO61",
        "outputId": "bd9970d7-236d-4e6c-f84c-1f6087ec5336"
      },
      "execution_count": 4,
      "outputs": [
        {
          "output_type": "stream",
          "name": "stdout",
          "text": [
            "Accuracy: 0.8\n"
          ]
        }
      ]
    },
    {
      "cell_type": "code",
      "source": [
        "!pip install gradio"
      ],
      "metadata": {
        "colab": {
          "base_uri": "https://localhost:8080/"
        },
        "id": "0HWKzfh3Mfp_",
        "outputId": "74894d87-a9a8-4dfb-cea3-daf6ae97fe1c"
      },
      "execution_count": 5,
      "outputs": [
        {
          "output_type": "stream",
          "name": "stdout",
          "text": [
            "Collecting gradio\n",
            "  Downloading gradio-5.17.1-py3-none-any.whl.metadata (16 kB)\n",
            "Collecting aiofiles<24.0,>=22.0 (from gradio)\n",
            "  Downloading aiofiles-23.2.1-py3-none-any.whl.metadata (9.7 kB)\n",
            "Requirement already satisfied: anyio<5.0,>=3.0 in /usr/local/lib/python3.11/dist-packages (from gradio) (3.7.1)\n",
            "Collecting fastapi<1.0,>=0.115.2 (from gradio)\n",
            "  Downloading fastapi-0.115.8-py3-none-any.whl.metadata (27 kB)\n",
            "Collecting ffmpy (from gradio)\n",
            "  Downloading ffmpy-0.5.0-py3-none-any.whl.metadata (3.0 kB)\n",
            "Collecting gradio-client==1.7.1 (from gradio)\n",
            "  Downloading gradio_client-1.7.1-py3-none-any.whl.metadata (7.1 kB)\n",
            "Requirement already satisfied: httpx>=0.24.1 in /usr/local/lib/python3.11/dist-packages (from gradio) (0.28.1)\n",
            "Requirement already satisfied: huggingface-hub>=0.28.1 in /usr/local/lib/python3.11/dist-packages (from gradio) (0.28.1)\n",
            "Requirement already satisfied: jinja2<4.0 in /usr/local/lib/python3.11/dist-packages (from gradio) (3.1.5)\n",
            "Collecting markupsafe~=2.0 (from gradio)\n",
            "  Downloading MarkupSafe-2.1.5-cp311-cp311-manylinux_2_17_x86_64.manylinux2014_x86_64.whl.metadata (3.0 kB)\n",
            "Requirement already satisfied: numpy<3.0,>=1.0 in /usr/local/lib/python3.11/dist-packages (from gradio) (1.26.4)\n",
            "Requirement already satisfied: orjson~=3.0 in /usr/local/lib/python3.11/dist-packages (from gradio) (3.10.15)\n",
            "Requirement already satisfied: packaging in /usr/local/lib/python3.11/dist-packages (from gradio) (24.2)\n",
            "Requirement already satisfied: pandas<3.0,>=1.0 in /usr/local/lib/python3.11/dist-packages (from gradio) (2.2.2)\n",
            "Requirement already satisfied: pillow<12.0,>=8.0 in /usr/local/lib/python3.11/dist-packages (from gradio) (11.1.0)\n",
            "Requirement already satisfied: pydantic>=2.0 in /usr/local/lib/python3.11/dist-packages (from gradio) (2.10.6)\n",
            "Collecting pydub (from gradio)\n",
            "  Downloading pydub-0.25.1-py2.py3-none-any.whl.metadata (1.4 kB)\n",
            "Collecting python-multipart>=0.0.18 (from gradio)\n",
            "  Downloading python_multipart-0.0.20-py3-none-any.whl.metadata (1.8 kB)\n",
            "Requirement already satisfied: pyyaml<7.0,>=5.0 in /usr/local/lib/python3.11/dist-packages (from gradio) (6.0.2)\n",
            "Collecting ruff>=0.9.3 (from gradio)\n",
            "  Downloading ruff-0.9.7-py3-none-manylinux_2_17_x86_64.manylinux2014_x86_64.whl.metadata (25 kB)\n",
            "Collecting safehttpx<0.2.0,>=0.1.6 (from gradio)\n",
            "  Downloading safehttpx-0.1.6-py3-none-any.whl.metadata (4.2 kB)\n",
            "Collecting semantic-version~=2.0 (from gradio)\n",
            "  Downloading semantic_version-2.10.0-py2.py3-none-any.whl.metadata (9.7 kB)\n",
            "Collecting starlette<1.0,>=0.40.0 (from gradio)\n",
            "  Downloading starlette-0.46.0-py3-none-any.whl.metadata (6.2 kB)\n",
            "Collecting tomlkit<0.14.0,>=0.12.0 (from gradio)\n",
            "  Downloading tomlkit-0.13.2-py3-none-any.whl.metadata (2.7 kB)\n",
            "Requirement already satisfied: typer<1.0,>=0.12 in /usr/local/lib/python3.11/dist-packages (from gradio) (0.15.1)\n",
            "Requirement already satisfied: typing-extensions~=4.0 in /usr/local/lib/python3.11/dist-packages (from gradio) (4.12.2)\n",
            "Collecting uvicorn>=0.14.0 (from gradio)\n",
            "  Downloading uvicorn-0.34.0-py3-none-any.whl.metadata (6.5 kB)\n",
            "Requirement already satisfied: fsspec in /usr/local/lib/python3.11/dist-packages (from gradio-client==1.7.1->gradio) (2024.10.0)\n",
            "Requirement already satisfied: websockets<15.0,>=10.0 in /usr/local/lib/python3.11/dist-packages (from gradio-client==1.7.1->gradio) (14.2)\n",
            "Requirement already satisfied: idna>=2.8 in /usr/local/lib/python3.11/dist-packages (from anyio<5.0,>=3.0->gradio) (3.10)\n",
            "Requirement already satisfied: sniffio>=1.1 in /usr/local/lib/python3.11/dist-packages (from anyio<5.0,>=3.0->gradio) (1.3.1)\n",
            "Collecting starlette<1.0,>=0.40.0 (from gradio)\n",
            "  Downloading starlette-0.45.3-py3-none-any.whl.metadata (6.3 kB)\n",
            "Requirement already satisfied: certifi in /usr/local/lib/python3.11/dist-packages (from httpx>=0.24.1->gradio) (2025.1.31)\n",
            "Requirement already satisfied: httpcore==1.* in /usr/local/lib/python3.11/dist-packages (from httpx>=0.24.1->gradio) (1.0.7)\n",
            "Requirement already satisfied: h11<0.15,>=0.13 in /usr/local/lib/python3.11/dist-packages (from httpcore==1.*->httpx>=0.24.1->gradio) (0.14.0)\n",
            "Requirement already satisfied: filelock in /usr/local/lib/python3.11/dist-packages (from huggingface-hub>=0.28.1->gradio) (3.17.0)\n",
            "Requirement already satisfied: requests in /usr/local/lib/python3.11/dist-packages (from huggingface-hub>=0.28.1->gradio) (2.32.3)\n",
            "Requirement already satisfied: tqdm>=4.42.1 in /usr/local/lib/python3.11/dist-packages (from huggingface-hub>=0.28.1->gradio) (4.67.1)\n",
            "Requirement already satisfied: python-dateutil>=2.8.2 in /usr/local/lib/python3.11/dist-packages (from pandas<3.0,>=1.0->gradio) (2.8.2)\n",
            "Requirement already satisfied: pytz>=2020.1 in /usr/local/lib/python3.11/dist-packages (from pandas<3.0,>=1.0->gradio) (2025.1)\n",
            "Requirement already satisfied: tzdata>=2022.7 in /usr/local/lib/python3.11/dist-packages (from pandas<3.0,>=1.0->gradio) (2025.1)\n",
            "Requirement already satisfied: annotated-types>=0.6.0 in /usr/local/lib/python3.11/dist-packages (from pydantic>=2.0->gradio) (0.7.0)\n",
            "Requirement already satisfied: pydantic-core==2.27.2 in /usr/local/lib/python3.11/dist-packages (from pydantic>=2.0->gradio) (2.27.2)\n",
            "Requirement already satisfied: click>=8.0.0 in /usr/local/lib/python3.11/dist-packages (from typer<1.0,>=0.12->gradio) (8.1.8)\n",
            "Requirement already satisfied: shellingham>=1.3.0 in /usr/local/lib/python3.11/dist-packages (from typer<1.0,>=0.12->gradio) (1.5.4)\n",
            "Requirement already satisfied: rich>=10.11.0 in /usr/local/lib/python3.11/dist-packages (from typer<1.0,>=0.12->gradio) (13.9.4)\n",
            "Requirement already satisfied: six>=1.5 in /usr/local/lib/python3.11/dist-packages (from python-dateutil>=2.8.2->pandas<3.0,>=1.0->gradio) (1.17.0)\n",
            "Requirement already satisfied: markdown-it-py>=2.2.0 in /usr/local/lib/python3.11/dist-packages (from rich>=10.11.0->typer<1.0,>=0.12->gradio) (3.0.0)\n",
            "Requirement already satisfied: pygments<3.0.0,>=2.13.0 in /usr/local/lib/python3.11/dist-packages (from rich>=10.11.0->typer<1.0,>=0.12->gradio) (2.18.0)\n",
            "Requirement already satisfied: charset-normalizer<4,>=2 in /usr/local/lib/python3.11/dist-packages (from requests->huggingface-hub>=0.28.1->gradio) (3.4.1)\n",
            "Requirement already satisfied: urllib3<3,>=1.21.1 in /usr/local/lib/python3.11/dist-packages (from requests->huggingface-hub>=0.28.1->gradio) (2.3.0)\n",
            "Requirement already satisfied: mdurl~=0.1 in /usr/local/lib/python3.11/dist-packages (from markdown-it-py>=2.2.0->rich>=10.11.0->typer<1.0,>=0.12->gradio) (0.1.2)\n",
            "Downloading gradio-5.17.1-py3-none-any.whl (62.3 MB)\n",
            "\u001b[2K   \u001b[90m━━━━━━━━━━━━━━━━━━━━━━━━━━━━━━━━━━━━━━━━\u001b[0m \u001b[32m62.3/62.3 MB\u001b[0m \u001b[31m9.7 MB/s\u001b[0m eta \u001b[36m0:00:00\u001b[0m\n",
            "\u001b[?25hDownloading gradio_client-1.7.1-py3-none-any.whl (321 kB)\n",
            "\u001b[2K   \u001b[90m━━━━━━━━━━━━━━━━━━━━━━━━━━━━━━━━━━━━━━━━\u001b[0m \u001b[32m322.0/322.0 kB\u001b[0m \u001b[31m21.7 MB/s\u001b[0m eta \u001b[36m0:00:00\u001b[0m\n",
            "\u001b[?25hDownloading aiofiles-23.2.1-py3-none-any.whl (15 kB)\n",
            "Downloading fastapi-0.115.8-py3-none-any.whl (94 kB)\n",
            "\u001b[2K   \u001b[90m━━━━━━━━━━━━━━━━━━━━━━━━━━━━━━━━━━━━━━━━\u001b[0m \u001b[32m94.8/94.8 kB\u001b[0m \u001b[31m7.0 MB/s\u001b[0m eta \u001b[36m0:00:00\u001b[0m\n",
            "\u001b[?25hDownloading MarkupSafe-2.1.5-cp311-cp311-manylinux_2_17_x86_64.manylinux2014_x86_64.whl (28 kB)\n",
            "Downloading python_multipart-0.0.20-py3-none-any.whl (24 kB)\n",
            "Downloading ruff-0.9.7-py3-none-manylinux_2_17_x86_64.manylinux2014_x86_64.whl (12.6 MB)\n",
            "\u001b[2K   \u001b[90m━━━━━━━━━━━━━━━━━━━━━━━━━━━━━━━━━━━━━━━━\u001b[0m \u001b[32m12.6/12.6 MB\u001b[0m \u001b[31m93.1 MB/s\u001b[0m eta \u001b[36m0:00:00\u001b[0m\n",
            "\u001b[?25hDownloading safehttpx-0.1.6-py3-none-any.whl (8.7 kB)\n",
            "Downloading semantic_version-2.10.0-py2.py3-none-any.whl (15 kB)\n",
            "Downloading starlette-0.45.3-py3-none-any.whl (71 kB)\n",
            "\u001b[2K   \u001b[90m━━━━━━━━━━━━━━━━━━━━━━━━━━━━━━━━━━━━━━━━\u001b[0m \u001b[32m71.5/71.5 kB\u001b[0m \u001b[31m5.5 MB/s\u001b[0m eta \u001b[36m0:00:00\u001b[0m\n",
            "\u001b[?25hDownloading tomlkit-0.13.2-py3-none-any.whl (37 kB)\n",
            "Downloading uvicorn-0.34.0-py3-none-any.whl (62 kB)\n",
            "\u001b[2K   \u001b[90m━━━━━━━━━━━━━━━━━━━━━━━━━━━━━━━━━━━━━━━━\u001b[0m \u001b[32m62.3/62.3 kB\u001b[0m \u001b[31m4.5 MB/s\u001b[0m eta \u001b[36m0:00:00\u001b[0m\n",
            "\u001b[?25hDownloading ffmpy-0.5.0-py3-none-any.whl (6.0 kB)\n",
            "Downloading pydub-0.25.1-py2.py3-none-any.whl (32 kB)\n",
            "Installing collected packages: pydub, uvicorn, tomlkit, semantic-version, ruff, python-multipart, markupsafe, ffmpy, aiofiles, starlette, safehttpx, gradio-client, fastapi, gradio\n",
            "  Attempting uninstall: markupsafe\n",
            "    Found existing installation: MarkupSafe 3.0.2\n",
            "    Uninstalling MarkupSafe-3.0.2:\n",
            "      Successfully uninstalled MarkupSafe-3.0.2\n",
            "Successfully installed aiofiles-23.2.1 fastapi-0.115.8 ffmpy-0.5.0 gradio-5.17.1 gradio-client-1.7.1 markupsafe-2.1.5 pydub-0.25.1 python-multipart-0.0.20 ruff-0.9.7 safehttpx-0.1.6 semantic-version-2.10.0 starlette-0.45.3 tomlkit-0.13.2 uvicorn-0.34.0\n"
          ]
        }
      ]
    },
    {
      "cell_type": "code",
      "source": [
        "import gradio as gr\n",
        "\n",
        "# Hotel database simulation\n",
        "hotel_database = {\n",
        "    \"Hotel A\": {\"price\": 100, \"availability\": 5},\n",
        "    \"Hotel B\": {\"price\": 150, \"availability\": 2},\n",
        "    \"Hotel C\": {\"price\": 80, \"availability\": 8}\n",
        "}\n",
        "\n",
        "# Payment simulation\n",
        "def process_payment(amount):\n",
        "    return f\"✅ Payment of ${amount} processed successfully!\"\n",
        "\n",
        "# Booking logic\n",
        "def book_hotel(hotel_name, num_nights):\n",
        "    if hotel_name in hotel_database and hotel_database[hotel_name][\"availability\"] > 0:\n",
        "        total_price = hotel_database[hotel_name][\"price\"] * num_nights\n",
        "        hotel_database[hotel_name][\"availability\"] -= 1\n",
        "        return f\"✅ Booking confirmed for **{hotel_name}** for **{num_nights} nights**! {process_payment(total_price)}\"\n",
        "    else:\n",
        "        return \"❌ Sorry, the hotel is unavailable or fully booked.\"\n",
        "\n",
        "# Chatbot response handling\n",
        "def chatbot_interface(user_input, hotel_name, num_nights):\n",
        "    user_input = user_input.lower()\n",
        "\n",
        "    if \"list hotels\" in user_input:\n",
        "        response = \"🏨 **Available Hotels:**\\n\"\n",
        "        for hotel, details in hotel_database.items():\n",
        "            response += f\"- **{hotel}**: ${details['price']} per night, {details['availability']} rooms available.\\n\"\n",
        "        return response.strip()\n",
        "\n",
        "    elif \"book\" in user_input:\n",
        "        return book_hotel(hotel_name, num_nights)\n",
        "\n",
        "    elif \"exit\" in user_input or \"bye\" in user_input:\n",
        "        return \"👋 Thank you for using the Hotel Booking Chatbot! Have a great day! 😊\"\n",
        "\n",
        "    else:\n",
        "        return \"🤖 I'm sorry, I didn't understand. You can ask to **list hotels** or **book a hotel**.\"\n",
        "\n",
        "# Gradio UI\n",
        "with gr.Blocks() as demo:\n",
        "    gr.Markdown(\"## 🏨 **Hotel Booking Chatbot**\")\n",
        "    gr.Markdown(\"Welcome! Ask me about available hotels or book a stay! ✨\")\n",
        "\n",
        "    with gr.Row():\n",
        "        user_input = gr.Textbox(label=\"Your Message\", placeholder=\"Type your request here...\")\n",
        "\n",
        "    with gr.Row():\n",
        "        hotel_name = gr.Dropdown(choices=list(hotel_database.keys()), label=\"Select Hotel\")\n",
        "        num_nights = gr.Slider(minimum=1, maximum=10, step=1, label=\"Number of Nights\")\n",
        "\n",
        "    chatbot_output = gr.Textbox(label=\"Chatbot Response\")\n",
        "\n",
        "    submit_button = gr.Button(\"Submit\")\n",
        "\n",
        "    submit_button.click(\n",
        "        chatbot_interface,\n",
        "        inputs=[user_input, hotel_name, num_nights],\n",
        "        outputs=chatbot_output\n",
        "    )\n",
        "\n",
        "# Launch Gradio App\n",
        "if __name__ == \"__main__\":\n",
        "    demo.launch()\n"
      ],
      "metadata": {
        "colab": {
          "base_uri": "https://localhost:8080/",
          "height": 646
        },
        "id": "3m5KGteXM55f",
        "outputId": "54416cb9-10eb-437a-bd70-1c4f49e62aa1"
      },
      "execution_count": 6,
      "outputs": [
        {
          "output_type": "stream",
          "name": "stdout",
          "text": [
            "Running Gradio in a Colab notebook requires sharing enabled. Automatically setting `share=True` (you can turn this off by setting `share=False` in `launch()` explicitly).\n",
            "\n",
            "Colab notebook detected. To show errors in colab notebook, set debug=True in launch()\n",
            "* Running on public URL: https://fcf61716b272bf9720.gradio.live\n",
            "\n",
            "This share link expires in 72 hours. For free permanent hosting and GPU upgrades, run `gradio deploy` from the terminal in the working directory to deploy to Hugging Face Spaces (https://huggingface.co/spaces)\n"
          ]
        },
        {
          "output_type": "display_data",
          "data": {
            "text/plain": [
              "<IPython.core.display.HTML object>"
            ],
            "text/html": [
              "<div><iframe src=\"https://fcf61716b272bf9720.gradio.live\" width=\"100%\" height=\"500\" allow=\"autoplay; camera; microphone; clipboard-read; clipboard-write;\" frameborder=\"0\" allowfullscreen></iframe></div>"
            ]
          },
          "metadata": {}
        }
      ]
    },
    {
      "cell_type": "code",
      "source": [],
      "metadata": {
        "id": "DlI81T0dNENp"
      },
      "execution_count": null,
      "outputs": []
    }
  ]
}